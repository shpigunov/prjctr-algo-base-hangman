{
 "cells": [
  {
   "cell_type": "markdown",
   "metadata": {},
   "source": [
    "# Solving Hangman\n",
    "\n",
    "## What is Hangman?\n",
    "\n",
    "`text`\n",
    "\n",
    "## Project Goals\n",
    "\n",
    "* Explore several player strategies\n",
    "* Explore several adversary strategies\n",
    "* Compare different players vs. different adversaries\n",
    "* Attempt to reach an equillibrium for the player on one side, and adversary on the other side\n",
    "\n",
    "## Proposed Code structure\n",
    "\n",
    "The code is subdivided as follows:\n",
    "\n",
    "* `Hangman.ipynb` - this notebook, containing discussion and experiments.\n",
    "* `game.py`, implementing the `Game` class, which stores game parameters and rules.\n",
    "* `player.py`, implementing various player strategies.\n",
    "* `adversary.py`, implementing various adversary strategies.\n",
    "* `functions.py`, implementing universal functions used throughout this project.\n",
    "\n",
    "## Word list\n",
    "\n",
    "Both the player and the adversary use the same known word list. For this work, we use a list included with `NLTK`, converted to lowercase to improve consistency of player and adversary strategies."
   ]
  },
  {
   "cell_type": "code",
   "execution_count": 1,
   "metadata": {},
   "outputs": [],
   "source": [
    "from nltk.corpus import words\n",
    "\n",
    "wl = [w.lower() for w in words.words()]\n",
    "\n",
    "# Short test word list for more locals tests\n",
    "# wl = ['robby', 'dobby', 'bobby', 'dobbs']"
   ]
  },
  {
   "cell_type": "markdown",
   "metadata": {},
   "source": [
    "## Player Strategies: \n",
    "\n"
   ]
  },
  {
   "cell_type": "code",
   "execution_count": 6,
   "metadata": {},
   "outputs": [],
   "source": [
    "import game\n",
    "import player\n",
    "import adversary"
   ]
  },
  {
   "cell_type": "markdown",
   "metadata": {},
   "source": [
    "### Strategy 0: 'Drunken' Random Player"
   ]
  },
  {
   "cell_type": "code",
   "execution_count": 7,
   "metadata": {},
   "outputs": [
    {
     "name": "stdout",
     "output_type": "stream",
     "text": [
      "Incorrect. Attempts left: 7\n",
      "Incorrect. Attempts left: 6\n",
      "Incorrect. Attempts left: 5\n",
      "Incorrect. Attempts left: 4\n",
      "Incorrect. Attempts left: 3\n",
      "Incorrect. Attempts left: 2\n",
      "Incorrect. Attempts left: 1\n",
      "Incorrect. Attempts left: 0\n",
      "brass\n",
      "*****\n"
     ]
    }
   ],
   "source": [
    "g = game.Game(wl, print_progress=True)\n",
    "w = adversary.adv0(g)\n",
    "g.set_word(w)\n",
    "player.play0(g)\n",
    "\n",
    "print(g.word_mask)\n",
    "g.print_word()"
   ]
  },
  {
   "cell_type": "markdown",
   "metadata": {},
   "source": [
    "### Strategy 1: Using fixed letter frequency in all words"
   ]
  },
  {
   "cell_type": "code",
   "execution_count": 8,
   "metadata": {},
   "outputs": [
    {
     "name": "stdout",
     "output_type": "stream",
     "text": [
      "Correct!  *i*****\n",
      "Correct!  *i*i***\n",
      "Correct!  *i*i*e*\n",
      "Incorrect. Attempts left: 7\n",
      "Incorrect. Attempts left: 6\n",
      "Incorrect. Attempts left: 5\n",
      "Correct!  *i*i*en\n",
      "Correct!  *iti*en\n",
      "Incorrect. Attempts left: 4\n",
      "Incorrect. Attempts left: 3\n",
      "Correct!  citi*en\n",
      "Incorrect. Attempts left: 2\n",
      "Incorrect. Attempts left: 1\n",
      "Incorrect. Attempts left: 0\n",
      "citizen\n",
      "citi*en\n"
     ]
    }
   ],
   "source": [
    "g = game.Game(wl, print_progress=True)\n",
    "w = adversary.adv0(g)\n",
    "g.set_word(w)\n",
    "player.play1(g)\n",
    "\n",
    "print(g.word_mask)\n",
    "g.print_word()"
   ]
  },
  {
   "cell_type": "markdown",
   "metadata": {},
   "source": [
    "### Strategy 2: Using frequencies for words of known length"
   ]
  },
  {
   "cell_type": "code",
   "execution_count": 9,
   "metadata": {},
   "outputs": [
    {
     "name": "stdout",
     "output_type": "stream",
     "text": [
      "Correct!  *******i**\n",
      "Correct!  **e****i**\n",
      "Correct!  **e**e*i**\n",
      "Incorrect. Attempts left: 7\n",
      "Incorrect. Attempts left: 6\n",
      "Incorrect. Attempts left: 5\n",
      "Incorrect. Attempts left: 4\n",
      "Correct!  **e**e*it*\n",
      "Incorrect. Attempts left: 3\n",
      "Correct!  s*e**e*it*\n",
      "Incorrect. Attempts left: 2\n",
      "Incorrect. Attempts left: 1\n",
      "Incorrect. Attempts left: 0\n",
      "skedgewith\n",
      "s*e**e*it*\n"
     ]
    }
   ],
   "source": [
    "g = game.Game(wl, print_progress=True)\n",
    "w = adversary.adv0(g)\n",
    "g.set_word(w)\n",
    "player.play2(g)\n",
    "\n",
    "print(g.word_mask)\n",
    "g.print_word()"
   ]
  },
  {
   "cell_type": "markdown",
   "metadata": {},
   "source": [
    "### Strategy 3: Word list bisect-based player using only correct letters"
   ]
  },
  {
   "cell_type": "code",
   "execution_count": 11,
   "metadata": {},
   "outputs": [
    {
     "name": "stdout",
     "output_type": "stream",
     "text": [
      "Correct!  ****e********\n",
      "Correct!  ****e*i******\n",
      "Correct!  ****e*i***i**\n",
      "Correct!  ****e*i**ti**\n",
      "Correct!  ****e*i**ti*n\n",
      "Correct!  ****e*i**tion\n",
      "Correct!  **a*e*i**tion\n",
      "Correct!  **a*e*i*ation\n",
      "Correct!  **a*e*ization\n",
      "Incorrect. Attempts left: 7\n",
      "Correct!  *la*e*ization\n",
      "Correct!  *la*elization\n",
      "Correct!  *lavelization\n",
      "Correct!  clavelization\n",
      "clavelization\n",
      "clavelization\n"
     ]
    }
   ],
   "source": [
    "g = game.Game(wl, print_progress=True)\n",
    "w = adversary.adv0(g)\n",
    "g.set_word(w)\n",
    "player.play3(g)\n",
    "\n",
    "print(g.word_mask)\n",
    "g.print_word()"
   ]
  },
  {
   "cell_type": "code",
   "execution_count": null,
   "metadata": {},
   "outputs": [],
   "source": []
  }
 ],
 "metadata": {
  "kernelspec": {
   "display_name": "Python 3",
   "language": "python",
   "name": "python3"
  },
  "language_info": {
   "codemirror_mode": {
    "name": "ipython",
    "version": 3
   },
   "file_extension": ".py",
   "mimetype": "text/x-python",
   "name": "python",
   "nbconvert_exporter": "python",
   "pygments_lexer": "ipython3",
   "version": "3.6.5"
  }
 },
 "nbformat": 4,
 "nbformat_minor": 2
}
