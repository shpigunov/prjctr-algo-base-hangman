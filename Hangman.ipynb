{
 "cells": [
  {
   "cell_type": "markdown",
   "metadata": {},
   "source": [
    "# Solving Hangman\n",
    "\n",
    "## What is Hangman?\n",
    "\n",
    "Hangman is a paper and pencil guessing game for two or more players. One player thinks of a word, phrase or sentence and the other tries to guess it by suggesting letters or numbers, within a certain number of guesses.\n",
    "\n",
    "## Project Goals\n",
    "\n",
    "* Explore several player strategies\n",
    "* Explore several adversary strategies\n",
    "* Compare different players vs. different adversaries\n",
    "* Attempt to reach an equillibrium for the player on one side, and adversary on the other side\n",
    "\n",
    "## Word list\n",
    "\n",
    "Both the player and the adversary use the same known word list. For this work, we use a list included with `NLTK`, converted to lowercase to improve consistency of player and adversary strategies."
   ]
  },
  {
   "cell_type": "code",
   "execution_count": 1,
   "metadata": {},
   "outputs": [],
   "source": [
    "from nltk.corpus import words\n",
    "\n",
    "wl = [w.lower() for w in words.words()]"
   ]
  },
  {
   "cell_type": "markdown",
   "metadata": {},
   "source": [
    "## Code structure\n",
    "\n",
    "The code is subdivided as follows:\n",
    "\n",
    "* `Hangman.ipynb` - this notebook, containing discussion and experiments.\n",
    "* `game.py`, implementing the `Game` class, which stores game parameters and rules.\n",
    "* `player.py`, implementing various player strategies.\n",
    "* `adversary.py`, implementing various adversary strategies.\n",
    "* `functions.py`, implementing universal functions used throughout this project.\n",
    "* `test.py`, containing testing and plotting automation\n"
   ]
  },
  {
   "cell_type": "code",
   "execution_count": 2,
   "metadata": {},
   "outputs": [],
   "source": [
    "import game\n",
    "import player\n",
    "import adversary\n",
    "import test"
   ]
  },
  {
   "cell_type": "markdown",
   "metadata": {},
   "source": [
    "## Player Strategies: \n",
    "\n",
    "### Strategy 0: 'Drunken' Random Player\n",
    "\n",
    "This is the easiest strategy to implement. The 'drunken' player always selects a random letter in hope of guessing the word. He is oblivious of any patterns or even the word list. Unfortunately, his chances are very low at ≤ 5% guessed words."
   ]
  },
  {
   "cell_type": "code",
   "execution_count": 30,
   "metadata": {},
   "outputs": [
    {
     "data": {
      "text/plain": [
       "2"
      ]
     },
     "execution_count": 30,
     "metadata": {},
     "output_type": "execute_result"
    }
   ],
   "source": [
    "test.test(player.play0, adversary.adv0, wl, n=100, verbose=False)"
   ]
  },
  {
   "cell_type": "markdown",
   "metadata": {},
   "source": [
    "### Strategy 1: Using fixed letter frequency in all words\n",
    "\n",
    "Following the idea described in Edgar Poe's _Gold Bug_, if we examine all words in the word list, we notice that some letters appear much more often than others. For instance, `a` is found in more words than, say, `q`. \n",
    "\n",
    "Using this idea, this strategy combs through the entire word list and builds a letter frequency table (histogram). The player then makes a _greedy_ guess of the most frequent letters in the order they appear in the table.\n",
    "\n",
    "This strategy yields a higher but still low success rate at ≤ 30% correct guesses."
   ]
  },
  {
   "cell_type": "code",
   "execution_count": 31,
   "metadata": {},
   "outputs": [
    {
     "data": {
      "text/plain": [
       "27"
      ]
     },
     "execution_count": 31,
     "metadata": {},
     "output_type": "execute_result"
    }
   ],
   "source": [
    "test.test(player.play1, adversary.adv0, wl, n=100, verbose=False)"
   ]
  },
  {
   "cell_type": "markdown",
   "metadata": {},
   "source": [
    "### Strategy 2: Using frequencies for words of known length\n",
    "\n",
    "We can also notice that letter frequency is different in words of different lengths. In theory, this would allow the frequency-based player to guess more words. In practice, this refinement offers little advantage over the previous method."
   ]
  },
  {
   "cell_type": "code",
   "execution_count": 32,
   "metadata": {},
   "outputs": [
    {
     "data": {
      "text/plain": [
       "28"
      ]
     },
     "execution_count": 32,
     "metadata": {},
     "output_type": "execute_result"
    }
   ],
   "source": [
    "test.test(player.play2, adversary.adv0, wl, n=100, verbose=False)"
   ]
  },
  {
   "cell_type": "markdown",
   "metadata": {},
   "source": [
    "### Strategy 3: Word list bisect-based player using only correct letters\n",
    "\n",
    "Understanding that there are inherent limitations to using letter frequency alone, we further attempt to devise a strategy that uses tbe correctly guessed letters and their known order (mask) to filter the word list for words matching this mask. One might argue that this strategy employs a high-level _binary search_ idea, because each iteration slices the remainig word list into valid and invalid parts.\n",
    "\n",
    "In practice, this method provides a massive advantage against a naïve adversary, with a ca. 90% success rate."
   ]
  },
  {
   "cell_type": "code",
   "execution_count": 33,
   "metadata": {},
   "outputs": [
    {
     "data": {
      "text/plain": [
       "91"
      ]
     },
     "execution_count": 33,
     "metadata": {},
     "output_type": "execute_result"
    }
   ],
   "source": [
    "test.test(player.play3, adversary.adv0, wl, n=100, verbose=False)"
   ]
  },
  {
   "cell_type": "markdown",
   "metadata": {},
   "source": [
    "### Strategy 4: Word list bisect-based player using correct & incorrect letters\n",
    "\n",
    "This strategy is very similar to strategy number 3, but it also uses incorrectly guessed letters to further narrow the list of candidate words.\n",
    "\n",
    "The result seems to be slightly better than that with the previous strategy."
   ]
  },
  {
   "cell_type": "code",
   "execution_count": 34,
   "metadata": {},
   "outputs": [
    {
     "data": {
      "text/plain": [
       "96"
      ]
     },
     "execution_count": 34,
     "metadata": {},
     "output_type": "execute_result"
    }
   ],
   "source": [
    "test.test(player.play4, adversary.adv0, wl, n=100, verbose=False)"
   ]
  },
  {
   "cell_type": "markdown",
   "metadata": {},
   "source": [
    "## A Tougher Enemy\n",
    "\n",
    "All of the above strategies were tested against a naïve adversary that randomly selects words form the word list. But what if we could suggest words that would give players a harder time to guess?\n",
    "\n",
    "### Adversary 1: Known results of a previous play-through\n",
    "\n",
    "Playing a certain strategy against the entire word list provides a 'score card' for this type of player. This strategy uses this score card to create a _discrete distribution_ biased towards more 'difficult' words. Of course, the success of this approach depends largely on the player strategy used to make the score card used as input.\n",
    "\n",
    "For instance, observe the scores of previously mentioned player models against an adversary using Player 3's score card:"
   ]
  },
  {
   "cell_type": "code",
   "execution_count": 40,
   "metadata": {},
   "outputs": [
    {
     "name": "stdout",
     "output_type": "stream",
     "text": [
      "3\n",
      "13\n",
      "18\n",
      "76\n",
      "85\n"
     ]
    }
   ],
   "source": [
    "print(test.test(player.play0, adversary.adv1, wl, n=100, verbose=False))\n",
    "print(test.test(player.play1, adversary.adv1, wl, n=100, verbose=False))\n",
    "print(test.test(player.play2, adversary.adv1, wl, n=100, verbose=False))\n",
    "print(test.test(player.play3, adversary.adv1, wl, n=100, verbose=False))\n",
    "print(test.test(player.play4, adversary.adv1, wl, n=100, verbose=False))"
   ]
  },
  {
   "cell_type": "markdown",
   "metadata": {},
   "source": [
    "As you can see, suggesting words that are more difficult predictably decreases player scores.\n",
    "\n",
    "### Adversary 2: Assuming Letter Difficulty\n",
    "\n",
    "This strategy tries to calculate difficulty of individual letters based on a known scorecard, and then maximize compound difficulty of letters in a defined selection. It doesn't use the scorecard _per se_ to select words, but rather, a calculated letter difficulty map. \n",
    "\n",
    "The resulting strategy seems to be stronger against letter frequency-based players, but to have almost no effect against bisect players."
   ]
  },
  {
   "cell_type": "code",
   "execution_count": 5,
   "metadata": {},
   "outputs": [
    {
     "name": "stdout",
     "output_type": "stream",
     "text": [
      "0\n",
      "8\n",
      "7\n",
      "80\n",
      "85\n"
     ]
    }
   ],
   "source": [
    "print(test.test(player.play0, adversary.adv2, wl, n=100, verbose=False))\n",
    "print(test.test(player.play1, adversary.adv2, wl, n=100, verbose=False))\n",
    "print(test.test(player.play2, adversary.adv2, wl, n=100, verbose=False))\n",
    "print(test.test(player.play3, adversary.adv2, wl, n=100, verbose=False))\n",
    "print(test.test(player.play4, adversary.adv2, wl, n=100, verbose=False))"
   ]
  },
  {
   "cell_type": "markdown",
   "metadata": {},
   "source": [
    "## Possible Future Improvements\n",
    "\n",
    "* Selecting next letters based on _entropy_, i.e. how much information about the word the player can elicit through a guess;\n",
    "* Attempting to maximize win probability using dynamic programming;\n",
    "* Machine learning-based player and adversary."
   ]
  },
  {
   "cell_type": "code",
   "execution_count": null,
   "metadata": {},
   "outputs": [],
   "source": []
  }
 ],
 "metadata": {
  "kernelspec": {
   "display_name": "Python 3",
   "language": "python",
   "name": "python3"
  },
  "language_info": {
   "codemirror_mode": {
    "name": "ipython",
    "version": 3
   },
   "file_extension": ".py",
   "mimetype": "text/x-python",
   "name": "python",
   "nbconvert_exporter": "python",
   "pygments_lexer": "ipython3",
   "version": "3.6.5"
  }
 },
 "nbformat": 4,
 "nbformat_minor": 2
}
